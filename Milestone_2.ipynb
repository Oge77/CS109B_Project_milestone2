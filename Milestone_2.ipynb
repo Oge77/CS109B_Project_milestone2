{
 "cells": [
  {
   "cell_type": "code",
   "execution_count": null,
   "metadata": {
    "collapsed": true,
    "deletable": true,
    "editable": true
   },
   "outputs": [],
   "source": []
  },
  {
   "cell_type": "markdown",
   "metadata": {
    "collapsed": true,
    "deletable": true,
    "editable": true
   },
   "source": [
    "## <span style=\"color:#08088A\">  Settings  </span>"
   ]
  },
  {
   "cell_type": "markdown",
   "metadata": {},
   "source": [
    "### <span style=\"color:#08088A\">  Needed libraries  </span>"
   ]
  },
  {
   "cell_type": "code",
   "execution_count": 1,
   "metadata": {
    "collapsed": false,
    "deletable": true,
    "editable": true
   },
   "outputs": [],
   "source": [
    "import imdb\n",
    "import numpy as np\n",
    "import pandas as pd\n",
    "import scipy as sp\n",
    "import sklearn.neighbors as knn\n",
    "import matplotlib\n",
    "import matplotlib.pyplot as plt\n",
    "import seaborn\n",
    "import requests\n",
    "import urllib\n",
    "import joblib\n",
    "import requests\n",
    "import json\n",
    "import os\n",
    "import random\n",
    "#import statsmodels.api as sm\n",
    "from matplotlib import rcParams\n",
    "from sklearn import discriminant_analysis\n",
    "from sklearn.decomposition import PCA\n",
    "from sklearn import preprocessing\n",
    "from sklearn.linear_model import LogisticRegression as LogReg\n",
    "from sklearn.discriminant_analysis import LinearDiscriminantAnalysis as LDA\n",
    "from sklearn.discriminant_analysis import QuadraticDiscriminantAnalysis as QDA\n",
    "from scipy.stats import mode\n",
    "from sklearn import linear_model\n",
    "from IPython.core.interactiveshell import InteractiveShell\n",
    "from time import sleep\n",
    "from collections import Counter\n",
    "from itertools import combinations, permutations\n",
    "from urlparse import urljoin\n",
    "InteractiveShell.ast_node_interactivity = \"all\"\n",
    "%matplotlib inline"
   ]
  },
  {
   "cell_type": "code",
   "execution_count": 2,
   "metadata": {
    "collapsed": true,
    "deletable": true,
    "editable": true
   },
   "outputs": [],
   "source": [
    "matplotlib.style.use('ggplot')\n",
    "rcParams['figure.figsize'] = (20, 10)\n",
    "rcParams['axes.facecolor'] = \"w\"\n",
    "rcParams['grid.color'] = \"gray\"\n",
    "rcParams['grid.linewidth'] = 0.5"
   ]
  },
  {
   "cell_type": "markdown",
   "metadata": {},
   "source": [
    "### <span style=\"color:#08088A\">  API settings  </span>"
   ]
  },
  {
   "cell_type": "code",
   "execution_count": null,
   "metadata": {
    "collapsed": true
   },
   "outputs": [],
   "source": [
    "api_key='put_your_api_key#' ## insert your API Keys do not use mine "
   ]
  },
  {
   "cell_type": "code",
   "execution_count": null,
   "metadata": {
    "collapsed": true
   },
   "outputs": [],
   "source": [
    "# setting for the discorver\n",
    "movie_endpoint = 'http://api.themoviedb.org/3/movie/{movie_id}'\n",
    "endpoint = 'http://api.themoviedb.org/3/discover/movie'\n",
    "\n",
    "discover_params = {\n",
    "        'sort_by':              'popularity.desc',\n",
    "        'primary_release_year':  2016\n",
    "        }\n",
    "random_params = {\n",
    "            'api_key'             :  'api_key',\n",
    "            }\n",
    "\n"
   ]
  },
  {
   "cell_type": "markdown",
   "metadata": {},
   "source": [
    "### <span style=\"color:#08088A\">  Needed functions  </span>"
   ]
  },
  {
   "cell_type": "code",
   "execution_count": 4,
   "metadata": {
    "collapsed": true,
    "deletable": true,
    "editable": true
   },
   "outputs": [],
   "source": [
    "def imdb_id_from_title(title):\n",
    "    \"\"\" return IMDB id for search string\n",
    "\n",
    "        Args::\n",
    "            title (str): the movie title search string\n",
    "\n",
    "        Returns: \n",
    "            str. IMDB id, e.g., 'tt0095016' \n",
    "            None. If no match was found\n",
    "\n",
    "    \"\"\"\n",
    "    pattern = 'http://www.imdb.com/xml/find?json=1&nr=1&tt=on&q={movie_title}'\n",
    "    url = pattern.format(movie_title=urllib.quote(title))\n",
    "    r = requests.get(url)\n",
    "    res = r.json()\n",
    "    sleep(0.5)\n",
    "    # sections in descending order or preference\n",
    "    for section in ['popular','exact','substring']:\n",
    "        key = 'title_' + section \n",
    "        if key in res:\n",
    "            return res[key][0]['id']"
   ]
  },
  {
   "cell_type": "code",
   "execution_count": null,
   "metadata": {
    "collapsed": true
   },
   "outputs": [],
   "source": [
    "def discover_tmdb_movies(max_pages, discover_params):\n",
    "    \n",
    "    \n",
    "    \n",
    "    discover_params.update(api_key = api_key)\n",
    "\n",
    "    total_pages = json.loads(requests.get(endpoint, params = discover_params).text)['total_pages']\n",
    "\n",
    "    movie_list = []\n",
    "    for page_num in range(1, total_pages+1):\n",
    "        if page_num > max_pages:\n",
    "            break\n",
    "\n",
    "        discover_params.update(page = page_num)\n",
    "        reponse = requests.get(endpoint, params = discover_params)\n",
    "        movie_list.extend(json.loads(reponse.text)['results'])\n",
    "        sleep(0.06)\n",
    "\n",
    "    return movie_list\n"
   ]
  },
  {
   "cell_type": "code",
   "execution_count": null,
   "metadata": {
    "collapsed": true
   },
   "outputs": [],
   "source": [
    "def get_random_tmdb_movies(max_pages):\n",
    "   \n",
    "    \n",
    "    \n",
    "    random_params.update(api_key = api_key)\n",
    "    movie_list = []\n",
    "    for page_num in range(1, max_pages+1):\n",
    "        random_year = random.choice(range(1990, 2018))\n",
    "        \n",
    "        random_params.update(primary_release_year=random_year)\n",
    "        \n",
    "        total_pages = json.loads(requests.get(endpoint, params = random_params).text)['total_pages']\n",
    "        random_result_page  =  random.choice(range(1, total_pages+1))\n",
    "        discover_params.update({'page':  random_result_page})\n",
    "        \n",
    "        reponse = requests.get(endpoint, params = random_params)\n",
    "        movie_list.extend(json.loads(reponse.text)['results'])\n",
    "        sleep(0.06)\n",
    "\n",
    "    return movie_list\n",
    "    "
   ]
  },
  {
   "cell_type": "code",
   "execution_count": null,
   "metadata": {
    "collapsed": true
   },
   "outputs": [],
   "source": [
    "def get_movie_info_from_tmdbid(tmdbid):\n",
    "    sleep(0.05)\n",
    "    response = requests.get(movie_endpoint.format(movie_id = tmdbid), params = {'api_key':api_key})\n",
    "    return json.loads(response.text)"
   ]
  },
  {
   "cell_type": "markdown",
   "metadata": {},
   "source": [
    "## <span style=\"color:#08088A\">  Stage 1: Ask A Question  </span>"
   ]
  },
  {
   "cell_type": "markdown",
   "metadata": {},
   "source": [
    "The exact form of X and Y depends on the ideas you had previously. In general though Y should involve the genre of a movie, and X the features you want to include to predict the genre. Remember from the lecture that more features does not necessarily equal better prediction performance. Use your application knowledge and the insight you gathered from your genre pair analysis and additional EDA to design Y. Do you want to include all genres? Are there genres that you assume to be easier to separate than others? Are there genres that could be grouped together? There is no one right answer here. We are looking for your insight, so be sure to describe your decision process in your notebook.\n",
    "In preparation for the deep learning part we strongly encourage you to have two sets of training data X, one with the metadata and one with the movie posters. Make sure to have a common key, like the movie ID, to be able to link the two sets together. Also be mindful of the data rate when you obtain the posters. Time your requests and choose which poster resolution you need. In most cases w500 should be sufficient, and probably a lower resolution will be fine.\n",
    "The notebook to submit this week should at least include:\n",
    "Discussion about the imbalanced nature of the data and how you want to address it\n",
    "Description of your data\n",
    "What does your choice of Y look like?\n",
    "Which features do you choose for X and why?\n",
    "How do you sample your data, how many samples, and why?"
   ]
  },
  {
   "cell_type": "markdown",
   "metadata": {},
   "source": [
    "## <span style=\"color:#08088A\"> Stage 2: Get the Data  </span>"
   ]
  },
  {
   "cell_type": "markdown",
   "metadata": {},
   "source": [
    "##  <span style=\"color:#08088A\">  Movie Data:  </span> "
   ]
  },
  {
   "cell_type": "markdown",
   "metadata": {
    "deletable": true,
    "editable": true
   },
   "source": [
    "\n",
    "The project is based on two different sources of movie data: IMDb and TMDb. TMDb is great, because it provides the movie posters in addition to the metadata. This is crucial for the deep learning part, in which you will try to predict movie genres from posters. IMDb has more metadata available and will supplement the TMDb data you have.\n",
    "TMDb provides an easy to use API that allows you to download the data selectively. IMDb does not provide an API, but there is a Python interface available to access the metadata. We will use IMDbPY, which is already installed on the AMI and virtual box images for your convenience.\n"
   ]
  },
  {
   "cell_type": "markdown",
   "metadata": {
    "deletable": true,
    "editable": true
   },
   "source": [
    "###  <span style=\"color:#08088A\">  Tmdb movie Data:  </span> "
   ]
  },
  {
   "cell_type": "code",
   "execution_count": 3,
   "metadata": {
    "collapsed": false,
    "deletable": true,
    "editable": true
   },
   "outputs": [],
   "source": [
    "# contains limited information about the movies from the discovered end point\n",
    "#discover_movie_list = discover_tmdb_movies(1, discover_params)\n",
    "random_movie_list = get_random_tmdb_movies(400)\n",
    "\n",
    "##getting complete info from the movie end point (about discovered movies)\n",
    "\n",
    "\n",
    "# with a for loop\n",
    "\n",
    "movie_info_list = [] # movies list form TMDB\n",
    "for index, movie in enumerate(random_movie_list):\n",
    "    #print '\\b' + str(index)\n",
    "    movie_info_list.append(get_movie_info_from_tmdbid(movie['id']))\n",
    "    sleep(0.05)\n",
    "\n",
    "\n",
    "# with a for map function\n",
    "#movie_info_list = map(get_movie_info_from_tmdbid, [movie['id'] for movie in random_movie_list])\n",
    "\n",
    "movie_info_list[:] = [x for x in movie_info_list if x['imdb_id'] != '' and x['imdb_id'] != None]"
   ]
  },
  {
   "cell_type": "code",
   "execution_count": 3,
   "metadata": {
    "collapsed": false,
    "deletable": true,
    "editable": true
   },
   "outputs": [],
   "source": [
    "movie_info_list[:] = [x for x in movie_info_list if x['imdb_id'] != '' and x['imdb_id'] != None]\n",
    "joblib.dump(movie_info_list, 'movie_info_list.pkl')\n",
    "movie_info_list = joblib.load('movie_info_list.pkl')"
   ]
  },
  {
   "cell_type": "code",
   "execution_count": null,
   "metadata": {
    "collapsed": true
   },
   "outputs": [],
   "source": [
    "data_tmdb = pd.DataFrame(movie_info_list)"
   ]
  },
  {
   "cell_type": "markdown",
   "metadata": {},
   "source": [
    "Some movies in tmdb dataset don't have imbd ID. To avoid error when requesting the imbd database, we will remove them."
   ]
  },
  {
   "cell_type": "code",
   "execution_count": null,
   "metadata": {
    "collapsed": true
   },
   "outputs": [],
   "source": [
    "len(data_tmdb), len(data_tmdb.imdb_id.unique())"
   ]
  },
  {
   "cell_type": "code",
   "execution_count": null,
   "metadata": {
    "collapsed": true
   },
   "outputs": [],
   "source": [
    "len(movie_info_list)"
   ]
  },
  {
   "cell_type": "code",
   "execution_count": null,
   "metadata": {
    "collapsed": true
   },
   "outputs": [],
   "source": []
  },
  {
   "cell_type": "code",
   "execution_count": null,
   "metadata": {
    "collapsed": true
   },
   "outputs": [],
   "source": [
    "data_tmdb['modified_genres'] = data_tmdb.genres.map(lambda x: [ [n for m,n in genre.items() if m == 'name'] for genre in x])\n",
    "data_tmdb['modified_genres'] = data_tmdb['modified_genres'].map(lambda l: [genre for genre_list in l for genre in genre_list ])\n",
    "data_tmdb[['original_title', 'modified_genres']].head()"
   ]
  },
  {
   "cell_type": "markdown",
   "metadata": {},
   "source": [
    "###  <span style=\"color:#08088A\">  Imdb movie Data:  </span> "
   ]
  },
  {
   "cell_type": "code",
   "execution_count": 8,
   "metadata": {
    "collapsed": true,
    "deletable": true,
    "editable": true
   },
   "outputs": [],
   "source": [
    "handle = imdb.IMDb('http')\n",
    "imdb_movie_list = []\n",
    "\n",
    "for imdbID in [x['imdb_id'] for x in movie_info_list]:\n",
    "    \n",
    "    imdb_movie_list.append(handle.get_movie(imdbID[2:len(imdbID)]))\n",
    "    sleep(0.05)"
   ]
  },
  {
   "cell_type": "code",
   "execution_count": 9,
   "metadata": {
    "collapsed": false,
    "deletable": true,
    "editable": true
   },
   "outputs": [],
   "source": [
    "imdb_movie_list_1 = [{k: x[k] for k in ('title', 'genres')} for x in imdb_movie_list[0:10]]"
   ]
  },
  {
   "cell_type": "code",
   "execution_count": 10,
   "metadata": {
    "collapsed": false,
    "deletable": true,
    "editable": true
   },
   "outputs": [],
   "source": [
    "data_imdb = pd.DataFrame(imdb_movie_list_1)"
   ]
  },
  {
   "cell_type": "code",
   "execution_count": 11,
   "metadata": {
    "collapsed": false,
    "deletable": true,
    "editable": true
   },
   "outputs": [
    {
     "data": {
      "text/html": [
       "<div>\n",
       "<table border=\"1\" class=\"dataframe\">\n",
       "  <thead>\n",
       "    <tr style=\"text-align: right;\">\n",
       "      <th></th>\n",
       "      <th>genres</th>\n",
       "      <th>title</th>\n",
       "    </tr>\n",
       "  </thead>\n",
       "  <tbody>\n",
       "    <tr>\n",
       "      <th>0</th>\n",
       "      <td>[Animation, Comedy, Family, Music]</td>\n",
       "      <td>Sing</td>\n",
       "    </tr>\n",
       "    <tr>\n",
       "      <th>1</th>\n",
       "      <td>[Action, Adventure, Sci-Fi]</td>\n",
       "      <td>Rogue One</td>\n",
       "    </tr>\n",
       "    <tr>\n",
       "      <th>2</th>\n",
       "      <td>[Adventure, Family, Fantasy]</td>\n",
       "      <td>Fantastic Beasts and Where to Find Them</td>\n",
       "    </tr>\n",
       "    <tr>\n",
       "      <th>3</th>\n",
       "      <td>[Animation, Adventure, Comedy, Family]</td>\n",
       "      <td>Finding Dory</td>\n",
       "    </tr>\n",
       "    <tr>\n",
       "      <th>4</th>\n",
       "      <td>[Action, Adventure, Comedy, Romance, Sci-Fi]</td>\n",
       "      <td>Deadpool</td>\n",
       "    </tr>\n",
       "    <tr>\n",
       "      <th>5</th>\n",
       "      <td>[Drama, Mystery, Sci-Fi, Thriller]</td>\n",
       "      <td>Arrival</td>\n",
       "    </tr>\n",
       "    <tr>\n",
       "      <th>6</th>\n",
       "      <td>[Action, Adventure, Sci-Fi]</td>\n",
       "      <td>Captain America: Civil War</td>\n",
       "    </tr>\n",
       "    <tr>\n",
       "      <th>7</th>\n",
       "      <td>[Action, Adventure, Fantasy, Sci-Fi]</td>\n",
       "      <td>Doctor Strange</td>\n",
       "    </tr>\n",
       "    <tr>\n",
       "      <th>8</th>\n",
       "      <td>[Action, Horror]</td>\n",
       "      <td>Underworld: Blood Wars</td>\n",
       "    </tr>\n",
       "    <tr>\n",
       "      <th>9</th>\n",
       "      <td>[Comedy]</td>\n",
       "      <td>Why Him?</td>\n",
       "    </tr>\n",
       "  </tbody>\n",
       "</table>\n",
       "</div>"
      ],
      "text/plain": [
       "                                         genres  \\\n",
       "0            [Animation, Comedy, Family, Music]   \n",
       "1                   [Action, Adventure, Sci-Fi]   \n",
       "2                  [Adventure, Family, Fantasy]   \n",
       "3        [Animation, Adventure, Comedy, Family]   \n",
       "4  [Action, Adventure, Comedy, Romance, Sci-Fi]   \n",
       "5            [Drama, Mystery, Sci-Fi, Thriller]   \n",
       "6                   [Action, Adventure, Sci-Fi]   \n",
       "7          [Action, Adventure, Fantasy, Sci-Fi]   \n",
       "8                              [Action, Horror]   \n",
       "9                                      [Comedy]   \n",
       "\n",
       "                                     title  \n",
       "0                                     Sing  \n",
       "1                                Rogue One  \n",
       "2  Fantastic Beasts and Where to Find Them  \n",
       "3                             Finding Dory  \n",
       "4                                 Deadpool  \n",
       "5                                  Arrival  \n",
       "6               Captain America: Civil War  \n",
       "7                           Doctor Strange  \n",
       "8                   Underworld: Blood Wars  \n",
       "9                                 Why Him?  "
      ]
     },
     "execution_count": 11,
     "metadata": {},
     "output_type": "execute_result"
    }
   ],
   "source": [
    "data_imdb.head()"
   ]
  },
  {
   "cell_type": "markdown",
   "metadata": {},
   "source": [
    "###  <span style=\"color:#08088A\">  Merged Data:  </span> "
   ]
  },
  {
   "cell_type": "code",
   "execution_count": null,
   "metadata": {
    "collapsed": true,
    "deletable": true,
    "editable": true
   },
   "outputs": [],
   "source": [
    "# we have to merge two infos- movie_info_list and imdb_movie_list\n",
    "# get all fields for movie - movie_info_list[1].keys()\n",
    "\n",
    "imdb_info_subset = ['imdb_id', 'title', 'year', 'genres']\n",
    "tmdb_info_subset = ['imdb_id', 'overview', 'budget', 'genres', 'poster_path']\n",
    "\n",
    "# prepare imdb data list\n",
    "\n",
    "[x.data.update({'imdb_id': 'tt' + x.getID()}) for x in imdb_movie_list]\n",
    "extracted_imdb_movie_list = [x.data for x in imdb_movie_list]\n",
    "\n",
    "## subset fields for imdb and tmdb lists\n",
    "\n",
    "final_tmdb_list = [ {x:y for x, y in movie.items() if x in tmdb_info_subset} for movie in movie_info_list]\n",
    "final_imdb_list = [ {x:y for x, y in movie.items() if x in imdb_info_subset} for movie in extracted_imdb_movie_list]\n",
    "\n",
    "tmdb_df = pd.DataFrame(final_tmdb_list)\n",
    "imdb_df = pd.DataFrame(final_imdb_list)\n",
    "\n",
    "## convert genre dictionary to list\n",
    "tmdb_df['genres'] = tmdb_df.genres.map(lambda x: [ [n for m,n in genre.items() if m == 'name'] for genre in x])\n",
    "tmdb_df['genres'] = tmdb_df['genres'].map(lambda l: [genre for genre_list in l for genre in genre_list ])\n",
    "\n",
    "\n",
    "merged_mdb = pd.merge(tmdb_df, imdb_df, on='imdb_id')"
   ]
  },
  {
   "cell_type": "markdown",
   "metadata": {
    "collapsed": true,
    "deletable": true,
    "editable": true
   },
   "source": [
    "###  <span style=\"color:#08088A\">  EDA:  </span> "
   ]
  },
  {
   "cell_type": "code",
   "execution_count": 17,
   "metadata": {
    "collapsed": false,
    "deletable": true,
    "editable": true
   },
   "outputs": [
    {
     "data": {
      "text/plain": [
       "<matplotlib.axes._subplots.AxesSubplot at 0x11ed8bd50>"
      ]
     },
     "execution_count": 17,
     "metadata": {},
     "output_type": "execute_result"
    },
    {
     "data": {
      "image/png": "[encoded data removed]",
      "text/plain": [
       "<matplotlib.figure.Figure at 0x11ed45e10>"
      ]
     },
     "metadata": {},
     "output_type": "display_data"
    }
   ],
   "source": [
    "# genre paired occurence\n",
    "\n",
    "paired_genres = list(data_tmdb.modified_genres.map(lambda x : list(combinations(x, 2))))\n",
    "flattened_genre_pairs = [pair for sublist in paired_genres for pair in sublist]\n",
    "pair_counter = Counter(flattened_genre_pairs)\n",
    "count_pair_list = zip(pair_counter, pair_counter.values())\n",
    "\n",
    "sorted_count_pair_list = sorted(count_pair_list, key= lambda x: x[1], reverse=True)[0:20]\n",
    "\n",
    "seaborn.barplot([x[1] for x in sorted_count_pair_list],[str(x[0]) for x in sorted_count_pair_list] )"
   ]
  },
  {
   "cell_type": "code",
   "execution_count": 24,
   "metadata": {
    "collapsed": false,
    "deletable": true,
    "editable": true
   },
   "outputs": [],
   "source": [
    "data_tmdb['pairs'] = data_tmdb.modified_genres.map(lambda x : list(combinations(x, 2)))\n",
    "melted_genre_pairs_movie = pd.DataFrame(pd.concat([pd.Series(row['original_title'], row['pairs']) for x, row in data_tmdb.iterrows()])).reset_index()"
   ]
  },
  {
   "cell_type": "code",
   "execution_count": 37,
   "metadata": {
    "collapsed": false,
    "deletable": true,
    "editable": true
   },
   "outputs": [],
   "source": [
    "melted_genre_pairs_movie.columns = ['genre_pair', 'original_title']\n",
    "# melted_genre_pairs_movie.head(20)\n",
    "grouped_genre_pairs_movie = melted_genre_pairs_movie.groupby('genre_pair')['original_title'].agg({'titles': lambda x : ', '.join(x)}).reset_index()\n",
    "grouped_genre_pairs_movie.columns = ['genre_pair', 'titles']\n",
    "\n",
    "plot_data = pd.DataFrame(sorted_count_pair_list, columns=['genre_pair', 'count'])"
   ]
  },
  {
   "cell_type": "code",
   "execution_count": null,
   "metadata": {
    "collapsed": true,
    "deletable": true,
    "editable": true
   },
   "outputs": [],
   "source": [
    "merged_data = pd.merge(plot_data, grouped_genre_pairs_movie, on = 'genre_pair', how= 'inner')"
   ]
  },
  {
   "cell_type": "code",
   "execution_count": null,
   "metadata": {
    "collapsed": true
   },
   "outputs": [],
   "source": []
  },
  {
   "cell_type": "code",
   "execution_count": null,
   "metadata": {
    "collapsed": true
   },
   "outputs": [],
   "source": []
  }
 ],
 "metadata": {
  "kernelspec": {
   "display_name": "Python [Root]",
   "language": "python",
   "name": "Python [Root]"
  },
  "language_info": {
   "codemirror_mode": {
    "name": "ipython",
    "version": 2
   },
   "file_extension": ".py",
   "mimetype": "text/x-python",
   "name": "python",
   "nbconvert_exporter": "python",
   "pygments_lexer": "ipython2",
   "version": "2.7.12"
  }
 },
 "nbformat": 4,
 "nbformat_minor": 2
}
